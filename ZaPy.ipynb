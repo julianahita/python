{
  "nbformat": 4,
  "nbformat_minor": 0,
  "metadata": {
    "colab": {
      "name": "ZaPy.ipynb",
      "provenance": [],
      "collapsed_sections": []
    },
    "kernelspec": {
      "name": "python3",
      "display_name": "Python 3"
    }
  },
  "cells": [
    {
      "cell_type": "code",
      "metadata": {
        "id": "anfYxorKuASG"
      },
      "source": [
        "import pandas as pd\n",
        "import matplotlib\n",
        "import matplotlib.pyplot as plt"
      ],
      "execution_count": null,
      "outputs": []
    },
    {
      "cell_type": "code",
      "metadata": {
        "id": "rtKwT0hyB_Bs",
        "colab": {
          "base_uri": "https://localhost:8080/"
        },
        "outputId": "cd6f9064-bade-4bf0-80db-4384f6e192ad"
      },
      "source": [
        "from google.colab import drive\n",
        "drive.mount('/content/drive')"
      ],
      "execution_count": null,
      "outputs": [
        {
          "output_type": "stream",
          "text": [
            "Drive already mounted at /content/drive; to attempt to forcibly remount, call drive.mount(\"/content/drive\", force_remount=True).\n"
          ],
          "name": "stdout"
        }
      ]
    },
    {
      "cell_type": "code",
      "metadata": {
        "id": "bJOugBwbusVR"
      },
      "source": [
        "with open('/content/drive/Shareddrives/Projeto Python/Teste.txt', 'r') as txt:\n",
        "  txt = txt.readlines()"
      ],
      "execution_count": null,
      "outputs": []
    },
    {
      "cell_type": "code",
      "metadata": {
        "id": "PmFu60SUe5ry"
      },
      "source": [
        "datas = []\n",
        "horas = []\n",
        "minutos = []\n",
        "contatos = []\n",
        "\n",
        "# parsear todas as linhas\n",
        "for linha in txt:\n",
        "\n",
        "  if linha[0].isdigit() == True:        #Se o primeiro caractere da linha for um número (isso já exclui as linhas extras de msgs com mais de uma linha)\n",
        "    linha = linha.split(' - ')     #divide a linha em antes e depois do ' - '\n",
        "    data_hora = linha[0]          #formato: dd/mm/aaaa hh:mm\n",
        "    mensagem = linha[1:]          #formato: número do contato: mensagem ou mensagens do sistema\n",
        "\n",
        "    # parsear data e hora\n",
        "    data_hora = data_hora.split(' ')      #separar a data da hora\n",
        "    data = data_hora[0]\n",
        "    horas_minuto = data_hora[-1]\n",
        "  \n",
        "    horas_minutos = horas_minuto.split(':')    #Separar hora de minutos\n",
        "    hora= horas_minutos[0]\n",
        "    minuto= horas_minutos[-1]\n",
        "\n",
        "    datas.append(data)\n",
        "    horas.append(hora)\n",
        "    minutos.append(minuto)\n",
        "\n",
        "    # parsear mensagem\n",
        "    msg = ''\n",
        "    for parte in mensagem:\n",
        "      msg += parte.strip('\\n') + ' '       #tirar o \\n das mensagens\n",
        "    msg = msg.split(': ')                 #separar o número e a mensagem\n",
        "    contato = msg[0]                      #contato vai ser só o que tem antes do ': '\n",
        "  \n",
        "    contatos.append(contato)\n",
        "\n",
        "#tenho agora 4 listas: datas, horas, minutos e contatos\n",
        "#crio um dataframe com as listas\n",
        "\n",
        "df = pd.DataFrame(list(zip(datas, horas, minutos, contatos)), \n",
        "               columns =['Data', 'Hora', 'Minutos', 'Contatos'])\n",
        "\n",
        "df = df.loc[df['Contatos'] != \"\"]     #eliminando as linhas que não tem número na coluna 'Contatos'\n",
        "\n",
        "# Eliminando as linhas de mensagens do sistema\n",
        "df['Contatos'] = df['Contatos'].astype(str) # Transformando todos os dados da coluna em strings\n",
        "\n",
        "df_remove = df[df['Contatos'].map(len) > 17] # Criando um dataframe com os dados que não queremos - mensagens do sistema\n",
        "df.drop(df_remove.index, inplace=True) # Removendo do dataframe original os valores baseados nos indices da df_remove\n",
        "\n",
        "df.reset_index(inplace=True)          #renumera as linhas do df\n",
        "\n",
        "T_msg= df.shape\n",
        "T_msg= T_msg[0]    #Calculando o total de msg do grupo\n",
        "\n",
        "Cont_msg = df['Contatos'].value_counts() # Conta quantas mensagens cada contato enviou\n",
        "dfCont_msg= pd.DataFrame(Cont_msg) # Crio um data frame com a contagem das mensagens\n",
        "dfCont_msg= dfCont_msg.reset_index()  # Tira os contatos do indice\n",
        "dfCont_msg= dfCont_msg.rename(columns={'index':'Contato','Contatos':'N° de mensagens'}) # Renomeia colunas\n",
        "\n",
        "T_cont= dfCont_msg.shape\n",
        "T_cont= T_cont[0]  #Calcula total de membros no grupo\n",
        "\n",
        "Cont_hora = df['Hora'].value_counts() #Conta o horario mais ativo do grupo\n",
        "dfCont_hora= pd.DataFrame(Cont_hora) # Crio um data frame com a contagem das mensagens\n",
        "dfCont_hora= dfCont_hora.reset_index()   # Tira os horarios do indice\n",
        "dfCont_hora= dfCont_hora.rename(columns={'index':'Hora', 'Hora':'N° de mensagens'}) # Renomeia colunas"
      ],
      "execution_count": null,
      "outputs": []
    },
    {
      "cell_type": "code",
      "metadata": {
        "id": "qo6tnmQF2ij7",
        "colab": {
          "base_uri": "https://localhost:8080/"
        },
        "outputId": "ddb3d0aa-b7ae-4784-ef8c-44dc5818e872"
      },
      "source": [
        "#Exibir análises não gráficas\r\n",
        "print(f'Esse grupo ja teve {T_cont} membros e ja foram enviadas nele {T_msg} mensagens')"
      ],
      "execution_count": null,
      "outputs": [
        {
          "output_type": "stream",
          "text": [
            "Esse grupo ja teve 7 membros e ja foram enviadas nele 693 mensagens\n"
          ],
          "name": "stdout"
        }
      ]
    },
    {
      "cell_type": "code",
      "metadata": {
        "id": "J5pED_ufFv9l",
        "colab": {
          "base_uri": "https://localhost:8080/",
          "height": 254
        },
        "outputId": "d055ce7d-a1fc-4e8c-fe5a-de2bea9adb35"
      },
      "source": [
        "dfCont_msg"
      ],
      "execution_count": null,
      "outputs": [
        {
          "output_type": "execute_result",
          "data": {
            "text/html": [
              "<div>\n",
              "<style scoped>\n",
              "    .dataframe tbody tr th:only-of-type {\n",
              "        vertical-align: middle;\n",
              "    }\n",
              "\n",
              "    .dataframe tbody tr th {\n",
              "        vertical-align: top;\n",
              "    }\n",
              "\n",
              "    .dataframe thead th {\n",
              "        text-align: right;\n",
              "    }\n",
              "</style>\n",
              "<table border=\"1\" class=\"dataframe\">\n",
              "  <thead>\n",
              "    <tr style=\"text-align: right;\">\n",
              "      <th></th>\n",
              "      <th>Contato</th>\n",
              "      <th>N° de mensagens</th>\n",
              "    </tr>\n",
              "  </thead>\n",
              "  <tbody>\n",
              "    <tr>\n",
              "      <th>0</th>\n",
              "      <td>+55 11 97656-4662</td>\n",
              "      <td>218</td>\n",
              "    </tr>\n",
              "    <tr>\n",
              "      <th>1</th>\n",
              "      <td>+55 19 99816-3392</td>\n",
              "      <td>184</td>\n",
              "    </tr>\n",
              "    <tr>\n",
              "      <th>2</th>\n",
              "      <td>+55 11 94980-1499</td>\n",
              "      <td>177</td>\n",
              "    </tr>\n",
              "    <tr>\n",
              "      <th>3</th>\n",
              "      <td>+55 11 95461-8728</td>\n",
              "      <td>72</td>\n",
              "    </tr>\n",
              "    <tr>\n",
              "      <th>4</th>\n",
              "      <td>+55 14 99684-0418</td>\n",
              "      <td>32</td>\n",
              "    </tr>\n",
              "    <tr>\n",
              "      <th>5</th>\n",
              "      <td>+55 11 99202-1664</td>\n",
              "      <td>7</td>\n",
              "    </tr>\n",
              "    <tr>\n",
              "      <th>6</th>\n",
              "      <td>+55 19 98102-3366</td>\n",
              "      <td>3</td>\n",
              "    </tr>\n",
              "  </tbody>\n",
              "</table>\n",
              "</div>"
            ],
            "text/plain": [
              "             Contato  N° de mensagens\n",
              "0  +55 11 97656-4662              218\n",
              "1  +55 19 99816-3392              184\n",
              "2  +55 11 94980-1499              177\n",
              "3  +55 11 95461-8728               72\n",
              "4  +55 14 99684-0418               32\n",
              "5  +55 11 99202-1664                7\n",
              "6  +55 19 98102-3366                3"
            ]
          },
          "metadata": {
            "tags": []
          },
          "execution_count": 204
        }
      ]
    },
    {
      "cell_type": "code",
      "metadata": {
        "id": "z63Dl1Rj2efo",
        "colab": {
          "base_uri": "https://localhost:8080/",
          "height": 491
        },
        "outputId": "59de4733-4808-429e-f00c-669f0386882b"
      },
      "source": [
        "dfCont_hora"
      ],
      "execution_count": null,
      "outputs": [
        {
          "output_type": "execute_result",
          "data": {
            "text/html": [
              "<div>\n",
              "<style scoped>\n",
              "    .dataframe tbody tr th:only-of-type {\n",
              "        vertical-align: middle;\n",
              "    }\n",
              "\n",
              "    .dataframe tbody tr th {\n",
              "        vertical-align: top;\n",
              "    }\n",
              "\n",
              "    .dataframe thead th {\n",
              "        text-align: right;\n",
              "    }\n",
              "</style>\n",
              "<table border=\"1\" class=\"dataframe\">\n",
              "  <thead>\n",
              "    <tr style=\"text-align: right;\">\n",
              "      <th></th>\n",
              "      <th>Hora</th>\n",
              "      <th>N° de mensagens</th>\n",
              "    </tr>\n",
              "  </thead>\n",
              "  <tbody>\n",
              "    <tr>\n",
              "      <th>0</th>\n",
              "      <td>17</td>\n",
              "      <td>123</td>\n",
              "    </tr>\n",
              "    <tr>\n",
              "      <th>1</th>\n",
              "      <td>16</td>\n",
              "      <td>96</td>\n",
              "    </tr>\n",
              "    <tr>\n",
              "      <th>2</th>\n",
              "      <td>14</td>\n",
              "      <td>90</td>\n",
              "    </tr>\n",
              "    <tr>\n",
              "      <th>3</th>\n",
              "      <td>00</td>\n",
              "      <td>84</td>\n",
              "    </tr>\n",
              "    <tr>\n",
              "      <th>4</th>\n",
              "      <td>22</td>\n",
              "      <td>68</td>\n",
              "    </tr>\n",
              "    <tr>\n",
              "      <th>5</th>\n",
              "      <td>19</td>\n",
              "      <td>44</td>\n",
              "    </tr>\n",
              "    <tr>\n",
              "      <th>6</th>\n",
              "      <td>13</td>\n",
              "      <td>44</td>\n",
              "    </tr>\n",
              "    <tr>\n",
              "      <th>7</th>\n",
              "      <td>15</td>\n",
              "      <td>37</td>\n",
              "    </tr>\n",
              "    <tr>\n",
              "      <th>8</th>\n",
              "      <td>18</td>\n",
              "      <td>35</td>\n",
              "    </tr>\n",
              "    <tr>\n",
              "      <th>9</th>\n",
              "      <td>20</td>\n",
              "      <td>28</td>\n",
              "    </tr>\n",
              "    <tr>\n",
              "      <th>10</th>\n",
              "      <td>23</td>\n",
              "      <td>22</td>\n",
              "    </tr>\n",
              "    <tr>\n",
              "      <th>11</th>\n",
              "      <td>21</td>\n",
              "      <td>16</td>\n",
              "    </tr>\n",
              "    <tr>\n",
              "      <th>12</th>\n",
              "      <td>11</td>\n",
              "      <td>4</td>\n",
              "    </tr>\n",
              "    <tr>\n",
              "      <th>13</th>\n",
              "      <td>10</td>\n",
              "      <td>1</td>\n",
              "    </tr>\n",
              "    <tr>\n",
              "      <th>14</th>\n",
              "      <td>12</td>\n",
              "      <td>1</td>\n",
              "    </tr>\n",
              "  </tbody>\n",
              "</table>\n",
              "</div>"
            ],
            "text/plain": [
              "   Hora  N° de mensagens\n",
              "0    17              123\n",
              "1    16               96\n",
              "2    14               90\n",
              "3    00               84\n",
              "4    22               68\n",
              "5    19               44\n",
              "6    13               44\n",
              "7    15               37\n",
              "8    18               35\n",
              "9    20               28\n",
              "10   23               22\n",
              "11   21               16\n",
              "12   11                4\n",
              "13   10                1\n",
              "14   12                1"
            ]
          },
          "metadata": {
            "tags": []
          },
          "execution_count": 205
        }
      ]
    },
    {
      "cell_type": "code",
      "metadata": {
        "colab": {
          "base_uri": "https://localhost:8080/",
          "height": 336
        },
        "id": "3bYBlSnqdE8p",
        "outputId": "9ea7510c-ab99-447d-93f7-adec3545863f"
      },
      "source": [
        "#Agora vamos plotar os gráficos\r\n",
        "#Podemos usar os dataframes para plotar os respectivos gráficos\r\n",
        "\r\n",
        "dfCont_msg.plot(kind='barh',\r\n",
        "                x='Contato', y='N° de mensagens',\r\n",
        "                title='Contatos com mais mensagens',\r\n",
        "                ylabel='N° de mensagens',\r\n",
        "                figsize=(10,5))   #definimos todas as características do gráfico, os eixos, título, rótulos que faltavam e tamanho da figura\r\n",
        "\r\n",
        "plt.gca().invert_yaxis()\r\n",
        "plt.show() #mostrar o gráfico"
      ],
      "execution_count": null,
      "outputs": [
        {
          "output_type": "display_data",
          "data": {
            "image/png": "[encoded data removed]",
            "text/plain": [
              "<Figure size 720x360 with 1 Axes>"
            ]
          },
          "metadata": {
            "tags": [],
            "needs_background": "light"
          }
        }
      ]
    },
    {
      "cell_type": "code",
      "metadata": {
        "id": "yPWprPIgpjD7",
        "colab": {
          "base_uri": "https://localhost:8080/",
          "height": 350
        },
        "outputId": "03fafc0b-659f-4a37-d0e7-ef664d9cea3b"
      },
      "source": [
        "df[\"Data\"]= pd.to_datetime(df[\"Data\"],format=\"%d/%m/%Y\") #Mudar o formato da data de string para date time assim trabalhamos com a ordem dos dias, no formato dia mes ano\r\n",
        "df.sort_values(\"Data\",inplace=True) # Ordenar os valores\r\n",
        "df.groupby(\"Data\").count() #Agrupa todos os valores com a mesma data pelo groupby e o .count conta quantos valores de cada coluna tem a mesma data\r\n",
        "\r\n",
        "x= list(range(len(df.groupby(\"Data\").count().index))) #Lista de sequencia de escalares que acompanham o tamanho do dataframe\r\n",
        "altura= list(df.groupby(\"Data\").count()[\"Hora\"]) #Frequencia de cada data\r\n",
        "plt.figure(figsize=(10, 5))\r\n",
        "plt.barh(x,altura) #plotamos as barras horizontais\r\n",
        "plt.yticks(x,df.groupby(\"Data\").count().index.astype(\"str\").str[:10]) #ajustar os ticks \r\n",
        "plt.title(\"Dias com mais mensagens\") #titulo\r\n",
        "plt.xlabel(\"Número de Mensagens\") #subtitulo\r\n",
        "plt.show() #mostrar o gráfico"
      ],
      "execution_count": null,
      "outputs": [
        {
          "output_type": "display_data",
          "data": {
            "image/png": "[encoded data removed]",
            "text/plain": [
              "<Figure size 720x360 with 1 Axes>"
            ]
          },
          "metadata": {
            "tags": [],
            "needs_background": "light"
          }
        }
      ]
    },
    {
      "cell_type": "code",
      "metadata": {
        "colab": {
          "base_uri": "https://localhost:8080/",
          "height": 350
        },
        "id": "U7aVlBcGYtoO",
        "outputId": "d4177789-8930-49d5-ad99-154c19d51cb6"
      },
      "source": [
        "df_hora = dfCont_hora.set_index('Hora')  #definimos a coluna 'Hora' como índice e atribuimos isso a um novo dataframe\r\n",
        "df_hora.sort_index(inplace=True)   #ordenamos o índice desse novo dataframe para ficar na ordem das horas do dia\r\n",
        "df_hora.plot(kind='bar', \r\n",
        "                 y='N° de mensagens', \r\n",
        "                 title='Horário com mais mensagens',\r\n",
        "                 xlabel='Horas',\r\n",
        "                 ylabel='N° de mensagens',\r\n",
        "                 rot=True,\r\n",
        "                 figsize=(10,5))   #definimos todas as características do gráfico, os eixos, título, rótulos que faltavam e tamanho da figura\r\n",
        "\r\n",
        "plt.show()"
      ],
      "execution_count": null,
      "outputs": [
        {
          "output_type": "display_data",
          "data": {
            "image/png": "[encoded data removed]",
            "text/plain": [
              "<Figure size 720x360 with 1 Axes>"
            ]
          },
          "metadata": {
            "tags": [],
            "needs_background": "light"
          }
        }
      ]
    },
    {
      "cell_type": "code",
      "metadata": {
        "id": "pRskw5iqrye4"
      },
      "source": [
        ""
      ],
      "execution_count": null,
      "outputs": []
    }
  ]
}