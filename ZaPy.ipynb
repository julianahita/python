{
  "nbformat": 4,
  "nbformat_minor": 0,
  "metadata": {
    "colab": {
      "name": "ZaPy.ipynb",
      "provenance": [],
      "collapsed_sections": []
    },
    "kernelspec": {
      "name": "python3",
      "display_name": "Python 3"
    }
  },
  "cells": [
    {
      "cell_type": "code",
      "metadata": {
        "id": "anfYxorKuASG"
      },
      "source": [
        "import pandas as pd\n",
        "import matplotlib\n",
        "import matplotlib.pyplot as plt"
      ],
      "execution_count": null,
      "outputs": []
    },
    {
      "cell_type": "code",
      "metadata": {
        "id": "rtKwT0hyB_Bs"
      },
      "source": [
        "from google.colab import drive\n",
        "drive.mount('/content/drive')"
      ],
      "execution_count": null,
      "outputs": []
    },
    {
      "cell_type": "code",
      "metadata": {
        "id": "bJOugBwbusVR"
      },
      "source": [
        "with open('[Insira o caminho do arquivo]', 'r') as txt:\n",
        "  txt = txt.readlines()"
      ],
      "execution_count": null,
      "outputs": []
    },
    {
      "cell_type": "code",
      "metadata": {
        "id": "PmFu60SUe5ry"
      },
      "source": [
        "datas = []\n",
        "horas = []\n",
        "minutos = []\n",
        "contatos = []\n",
        "\n",
        "# parsear todas as linhas\n",
        "for linha in txt:\n",
        "\n",
        "  if linha[0].isdigit() == True:        #Se o primeiro caractere da linha for um número (isso já exclui as linhas extras de msgs com mais de uma linha)\n",
        "    linha = linha.split(' - ')     #divide a linha em antes e depois do ' - '\n",
        "    data_hora = linha[0]          #formato: dd/mm/aaaa hh:mm\n",
        "    mensagem = linha[1:]          #formato: número do contato: mensagem ou mensagens do sistema\n",
        "\n",
        "    # parsear data e hora\n",
        "    data_hora = data_hora.split(' ')      #separar a data da hora\n",
        "    data = data_hora[0]\n",
        "    horas_minuto = data_hora[-1]\n",
        "  \n",
        "    horas_minutos = horas_minuto.split(':')    #Separar hora de minutos\n",
        "    hora= horas_minutos[0]\n",
        "    minuto= horas_minutos[-1]\n",
        "\n",
        "    datas.append(data)\n",
        "    horas.append(hora)\n",
        "    minutos.append(minuto)\n",
        "\n",
        "    # parsear mensagem\n",
        "    msg = ''\n",
        "    for parte in mensagem:\n",
        "      msg += parte.strip('\\n') + ' '       #tirar o \\n das mensagens\n",
        "    msg = msg.split(': ')                 #separar o número e a mensagem\n",
        "    contato = msg[0]                      #contato vai ser só o que tem antes do ': '\n",
        "  \n",
        "    contatos.append(contato)\n",
        "\n",
        "#tenho agora 4 listas: datas, horas, minutos e contatos\n",
        "#crio um dataframe com as listas\n",
        "\n",
        "df = pd.DataFrame(list(zip(datas, horas, minutos, contatos)), \n",
        "               columns =['Data', 'Hora', 'Minutos', 'Contatos'])\n",
        "\n",
        "df = df.loc[df['Contatos'] != \"\"]     #eliminando as linhas que não tem número na coluna 'Contatos'\n",
        "\n",
        "# Eliminando as linhas de mensagens do sistema\n",
        "df['Contatos'] = df['Contatos'].astype(str) # Transformando todos os dados da coluna em strings\n",
        "\n",
        "df_remove = df[df['Contatos'].map(len) > 17] # Criando um dataframe com os dados que não queremos - mensagens do sistema\n",
        "df.drop(df_remove.index, inplace=True) # Removendo do dataframe original os valores baseados nos indices da df_remove\n",
        "\n",
        "df.reset_index(inplace=True)          #renumera as linhas do df\n",
        "\n",
        "T_msg= df.shape\n",
        "T_msg= T_msg[0]    #Calculando o total de msg do grupo\n",
        "\n",
        "Cont_msg = df['Contatos'].value_counts() # Conta quantas mensagens cada contato enviou\n",
        "dfCont_msg= pd.DataFrame(Cont_msg) # Crio um data frame com a contagem das mensagens\n",
        "dfCont_msg= dfCont_msg.reset_index()  # Tira os contatos do indice\n",
        "dfCont_msg= dfCont_msg.rename(columns={'index':'Contato','Contatos':'N° de mensagens'}) # Renomeia colunas\n",
        "\n",
        "T_cont= dfCont_msg.shape\n",
        "T_cont= T_cont[0]  #Calcula total de membros no grupo\n",
        "\n",
        "Cont_hora = df['Hora'].value_counts() #Conta o horario mais ativo do grupo\n",
        "dfCont_hora= pd.DataFrame(Cont_hora) # Crio um data frame com a contagem das mensagens\n",
        "dfCont_hora= dfCont_hora.reset_index()   # Tira os horarios do indice\n",
        "dfCont_hora= dfCont_hora.rename(columns={'index':'Hora', 'Hora':'N° de mensagens'}) # Renomeia colunas"
      ],
      "execution_count": null,
      "outputs": []
    },
    {
      "cell_type": "code",
      "metadata": {
        "id": "qo6tnmQF2ij7"
      },
      "source": [
        "#Exibir análises não gráficas\r\n",
        "print(f'Esse grupo ja teve {T_cont} membros e ja foram enviadas nele {T_msg} mensagens')"
      ],
      "execution_count": null,
      "outputs": []
    },
    {
      "cell_type": "code",
      "metadata": {
        "id": "J5pED_ufFv9l"
      },
      "source": [
        "dfCont_msg"
      ],
      "execution_count": null,
      "outputs": []
    },
    {
      "cell_type": "code",
      "metadata": {
        "id": "z63Dl1Rj2efo"
      },
      "source": [
        "dfCont_hora"
      ],
      "execution_count": null,
      "outputs": []
    },
    {
      "cell_type": "code",
      "metadata": {
        "id": "HCZuWI_E6MMK"
      },
      "source": [
        "#Plotar gráficos\r\n",
        "x= list(dfCont_msg.index) # Fazemos uma lista do indice da tabela\r\n",
        "altura= list(dfCont_msg[\"N° de mensagens\"]) #lista de frequencia chamada numero de mensagens\r\n",
        "plt.figure(figsize=(15, 7))\r\n",
        "plt.barh(x,altura) #plotamos as barras horizontais\r\n",
        "plt.yticks(x,list(dfCont_msg[\"Contato\"])) # Ajustamos cada numero de telefone com os ticks que podem ser numeros, valores, letras que nesse caso é o n° de telefone\r\n",
        "plt.title(\"Contatos com mais mensagens\") #titulo\r\n",
        "plt.xlabel(\"Número de Mensagens\") #subtitulo\r\n",
        "plt.show() #mostra o grafico "
      ],
      "execution_count": null,
      "outputs": []
    },
    {
      "cell_type": "code",
      "metadata": {
        "id": "yPWprPIgpjD7"
      },
      "source": [
        "df[\"Data\"]= pd.to_datetime(df[\"Data\"],format=\"%d/%m/%Y\") #Mudar o formato da data de string para date time assim trabalhamos com a ordem dos dias, no formato dia mes ano\r\n",
        "df.sort_values(\"Data\",inplace=True) # Ordenar os valores\r\n",
        "df.groupby(\"Data\").count() #Agrupa todos os valores com a mesma data pelo groupby e o .count conta quantos valores de cada coluna tem a mesma data\r\n",
        "\r\n",
        "x= list(range(len(df.groupby(\"Data\").count().index))) #Lista de sequencia de escalares que acompanham o tamanho do dataframe\r\n",
        "altura= list(df.groupby(\"Data\").count()[\"Hora\"]) #Frequencia de cada data\r\n",
        "plt.figure(figsize=(15, 7))\r\n",
        "plt.barh(x,altura) #plotamos as barras horizontais\r\n",
        "plt.yticks(x,df.groupby(\"Data\").count().index.astype(\"str\").str[:10]) #ajustar os ticks \r\n",
        "plt.title(\"Dias com mais mensagens\") #titulo\r\n",
        "plt.xlabel(\"Número de Mensagens\") #subtitulo\r\n",
        "plt.show() #mostrar o gráfico"
      ],
      "execution_count": null,
      "outputs": []
    },
    {
      "cell_type": "code",
      "metadata": {
        "id": "2Ydv6PsF1ejN"
      },
      "source": [
        "x = list(range(24)) # Lista de sequencia de escalares\r\n",
        "y = [] #Atribuir a variavel y a uma lista\r\n",
        "dici = dict(zip(list(dfCont_hora[\"Hora\"]),list( dfCont_hora[\"N° de mensagens\"]))) #minhas chaves serao os horarios que estão na tabela dfcont.hora e os valores serão o numero de mensagens\r\n",
        "for n in x: \r\n",
        "  if str(n) in dici.keys(): \r\n",
        "    y.append(dici[str(n)]) #acrescenta valores a lista por isso ela é vazia no inicio\r\n",
        "  else:\r\n",
        "    y.append(0)\r\n",
        "\r\n",
        "plt.figure(figsize=(20, 7)) # tamanho da figura que contem o grafico que será mostrado\r\n",
        "plt.bar(x,y,width=0.8,) #tamanho das barras\r\n",
        "plt.xticks(x,x)\r\n",
        "plt.title(\"Horário com mais mensagens\") #titulo\r\n",
        "plt.ylabel(\"Número de mensagens\")\r\n",
        "plt.show()"
      ],
      "execution_count": null,
      "outputs": []
    },
    {
      "cell_type": "code",
      "metadata": {
        "id": "QqmqjO72qzYO"
      },
      "source": [
        ""
      ],
      "execution_count": null,
      "outputs": []
    }
  ]
}